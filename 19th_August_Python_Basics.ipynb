{
 "cells": [
  {
   "cell_type": "code",
   "execution_count": 18,
   "id": "e1c93cd6-bb41-4982-b9f2-240a74220962",
   "metadata": {},
   "outputs": [],
   "source": [
    "#Python Based Variable\n",
    "#Swapping Variable Q1\n",
    "x = 10"
   ]
  },
  {
   "cell_type": "code",
   "execution_count": 19,
   "id": "6e0d14c9-adff-45da-a4de-5569b00537ea",
   "metadata": {},
   "outputs": [],
   "source": [
    "y = 15"
   ]
  },
  {
   "cell_type": "code",
   "execution_count": 20,
   "id": "09ae12fd-4c1a-44c9-9bfc-79ea72cea0fc",
   "metadata": {},
   "outputs": [],
   "source": [
    "x, y = y, x"
   ]
  },
  {
   "cell_type": "code",
   "execution_count": 22,
   "id": "453f7fbf-a679-495f-8c0f-8ac7784658d1",
   "metadata": {},
   "outputs": [
    {
     "name": "stdout",
     "output_type": "stream",
     "text": [
      "15 10\n"
     ]
    }
   ],
   "source": [
    "print(x ,y)"
   ]
  },
  {
   "cell_type": "code",
   "execution_count": null,
   "id": "f5ecac81-a582-4ca3-9187-fb244ec0e257",
   "metadata": {},
   "outputs": [],
   "source": []
  },
  {
   "cell_type": "code",
   "execution_count": 1,
   "id": "ee64cec6-367c-416f-b37a-071ffad6f52a",
   "metadata": {},
   "outputs": [
    {
     "name": "stdin",
     "output_type": "stream",
     "text": [
      " 5\n",
      " 6\n"
     ]
    },
    {
     "name": "stdout",
     "output_type": "stream",
     "text": [
      "30\n"
     ]
    }
   ],
   "source": [
    "#Area of Rectangle Q2\n",
    "l = int(input())\n",
    "w = int(input())\n",
    "area = l * w\n",
    "print(area)"
   ]
  },
  {
   "cell_type": "code",
   "execution_count": null,
   "id": "b5b32531-7b2a-4318-970f-46e3f58554a7",
   "metadata": {},
   "outputs": [],
   "source": []
  },
  {
   "cell_type": "code",
   "execution_count": 5,
   "id": "eb0b6ac1-4362-483f-8fc0-f3b0bb2f5c6a",
   "metadata": {},
   "outputs": [
    {
     "name": "stdin",
     "output_type": "stream",
     "text": [
      " 0\n"
     ]
    },
    {
     "name": "stdout",
     "output_type": "stream",
     "text": [
      "32.0\n"
     ]
    }
   ],
   "source": [
    "#celcium to farenhitQ3\n",
    "C = int(input())\n",
    "F = ((C * (9/5)) + 32 )\n",
    "print(F)"
   ]
  },
  {
   "cell_type": "code",
   "execution_count": null,
   "id": "ac9fc054-45cd-4779-a15f-99644e047b3b",
   "metadata": {},
   "outputs": [],
   "source": []
  },
  {
   "cell_type": "code",
   "execution_count": 6,
   "id": "1ab92152-8771-4c4e-bb00-2af7cbc64b42",
   "metadata": {},
   "outputs": [
    {
     "name": "stdin",
     "output_type": "stream",
     "text": [
      " Priyesh\n"
     ]
    },
    {
     "name": "stdout",
     "output_type": "stream",
     "text": [
      "7\n"
     ]
    }
   ],
   "source": [
    "#String Based Questions\n",
    "# Q1 String as input and length\n",
    "\n",
    "x = str(input())\n",
    "print(len(x))"
   ]
  },
  {
   "cell_type": "code",
   "execution_count": null,
   "id": "288c735a-207c-4965-a7f8-eb2dd92469e6",
   "metadata": {},
   "outputs": [],
   "source": []
  },
  {
   "cell_type": "code",
   "execution_count": 7,
   "id": "b7bc23ab-c747-433f-b399-560508261668",
   "metadata": {},
   "outputs": [
    {
     "name": "stdin",
     "output_type": "stream",
     "text": [
      " I am a student\n"
     ]
    },
    {
     "name": "stdout",
     "output_type": "stream",
     "text": [
      "Number of vowels:  5\n"
     ]
    }
   ],
   "source": [
    "#Q2 Count number of vowel\n",
    "x = str(input())\n",
    "count = len([char for char in x if char in \"aeiouAEIOU\"])\n",
    "print(\"Number of vowels: \", count   )"
   ]
  },
  {
   "cell_type": "code",
   "execution_count": null,
   "id": "72441213-d90a-4b3c-8785-8b035685e618",
   "metadata": {},
   "outputs": [],
   "source": []
  },
  {
   "cell_type": "code",
   "execution_count": 8,
   "id": "10e669f8-1280-41e1-bf7c-667bc32a14c9",
   "metadata": {},
   "outputs": [
    {
     "name": "stdin",
     "output_type": "stream",
     "text": [
      " Priyesh\n"
     ]
    },
    {
     "name": "stdout",
     "output_type": "stream",
     "text": [
      "hseyirP\n"
     ]
    }
   ],
   "source": [
    "#Q3 reverse a string\n",
    "x = str(input())\n",
    "reverse = x[::-1]\n",
    "print(reverse)"
   ]
  },
  {
   "cell_type": "code",
   "execution_count": null,
   "id": "642e0a17-5ef8-46fc-ac92-19e808586a03",
   "metadata": {},
   "outputs": [],
   "source": []
  },
  {
   "cell_type": "code",
   "execution_count": 13,
   "id": "8af526d4-662b-4fbe-b9b3-15f6bf79164f",
   "metadata": {},
   "outputs": [
    {
     "name": "stdin",
     "output_type": "stream",
     "text": [
      " radar\n"
     ]
    },
    {
     "data": {
      "text/plain": [
       "True"
      ]
     },
     "execution_count": 13,
     "metadata": {},
     "output_type": "execute_result"
    }
   ],
   "source": [
    "#Q4 Palindrome\n",
    "x = str(input())\n",
    "Forward = x[::1]\n",
    "reverse = x[::-1]\n",
    "Forward == reverse"
   ]
  },
  {
   "cell_type": "code",
   "execution_count": null,
   "id": "8e116822-0153-4e96-a99b-67185b4cb8a6",
   "metadata": {},
   "outputs": [],
   "source": []
  },
  {
   "cell_type": "code",
   "execution_count": 18,
   "id": "56d8845e-9be9-49a9-b8b1-1fc5c8082068",
   "metadata": {},
   "outputs": [
    {
     "name": "stdin",
     "output_type": "stream",
     "text": [
      " P r i\n"
     ]
    },
    {
     "name": "stdout",
     "output_type": "stream",
     "text": [
      "Pri\n"
     ]
    }
   ],
   "source": [
    "#Q5 remove spaces\n",
    "x = str(input())\n",
    "y = x.replace(\" \",\"\")\n",
    "print(y)"
   ]
  },
  {
   "cell_type": "code",
   "execution_count": null,
   "id": "4e550707-2830-4414-8f81-49c63371af7a",
   "metadata": {},
   "outputs": [],
   "source": []
  },
  {
   "cell_type": "code",
   "execution_count": null,
   "id": "c7c84816-674c-453c-8488-42ce77f29666",
   "metadata": {},
   "outputs": [],
   "source": []
  }
 ],
 "metadata": {
  "kernelspec": {
   "display_name": "Python 3 (ipykernel)",
   "language": "python",
   "name": "python3"
  },
  "language_info": {
   "codemirror_mode": {
    "name": "ipython",
    "version": 3
   },
   "file_extension": ".py",
   "mimetype": "text/x-python",
   "name": "python",
   "nbconvert_exporter": "python",
   "pygments_lexer": "ipython3",
   "version": "3.10.8"
  }
 },
 "nbformat": 4,
 "nbformat_minor": 5
}
